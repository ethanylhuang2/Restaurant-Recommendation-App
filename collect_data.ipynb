{
 "cells": [
  {
   "cell_type": "code",
   "execution_count": 39,
   "metadata": {},
   "outputs": [
    {
     "name": "stdout",
     "output_type": "stream",
     "text": [
      "Not valid data\n",
      "{'error': {'code': 'INTERNAL_ERROR', 'description': 'Something went wrong internally, please try again later.'}}\n",
      "Fnished fetching data\n"
     ]
    }
   ],
   "source": [
    "import requests\n",
    "import json\n",
    "import time\n",
    "import os\n",
    "\n",
    "API_KEY = 'ZdpeG8xFeTZRSqqiNnbe6tvcV9OI6FKenEdeuEpMLuUhq41DQ9EX9-71yKGfsIvxW9mYIzqZznCG2AuECKuQVOmGUvti485q_e_dS4OxSi3ZCSqwcABXYhdjyr9oZnYx'\n",
    "HEADERS = {'Authorization': f'Bearer {API_KEY}'}\n",
    "URL = 'https://api.yelp.com/v3/businesses/search'\n",
    "DATABASE_FILE = 'restaurants_data.json'\n",
    "\n",
    "def fetch_yelp_data(location, offset):\n",
    "    params = {\n",
    "        'term': 'restaurants',\n",
    "        'location': location,\n",
    "        'limit': 50,\n",
    "        'offset': offset\n",
    "    }\n",
    "    response = requests.get(URL, headers=HEADERS, params=params)\n",
    "    return response.json()\n",
    "\n",
    "def write_to_file(data):\n",
    "    with open(DATABASE_FILE, 'w') as file:\n",
    "        file.write(json.dumps(data) + '\\n')\n",
    "\n",
    "location = \"San Francisco, CA\"\n",
    "max_calls = 300\n",
    "num_calls = 0\n",
    "offset = 0\n",
    "\n",
    "while num_calls < max_calls:\n",
    "    data = fetch_yelp_data(location, offset)\n",
    "    if not data.get('businesses'):\n",
    "        print(\"Not valid data\")\n",
    "        print(data)\n",
    "        continue\n",
    "    write_to_file(data)\n",
    "    offset += 50\n",
    "    num_calls += 1\n",
    "    time.sleep(0.5)\n",
    "\n",
    "    if offset >= data['total']:\n",
    "        print(\"No more data\")\n",
    "        break\n",
    "\n",
    "print(\"Fnished fetching data\")"
   ]
  },
  {
   "cell_type": "code",
   "execution_count": 36,
   "metadata": {},
   "outputs": [
    {
     "name": "stdout",
     "output_type": "stream",
     "text": [
      "(39, 7)\n"
     ]
    }
   ],
   "source": [
    "import pandas as pd\n",
    "\n",
    "def parse_yelp_data(json_data):\n",
    "    restaurants = []\n",
    "    for business in json_data['businesses']:\n",
    "        if 'price' in business:\n",
    "\n",
    "            restaurant = {\n",
    "                'name': business['name'],\n",
    "                'cuisine': ', '.join([category['title'] for category in business['categories']]),\n",
    "                'city' : business['location']['city'],\n",
    "                'address': business['location']['address1'],\n",
    "                'price_range': business.get('price', 'N/A'),\n",
    "                'average_rating': business['rating'],\n",
    "                'review_count': business['review_count']\n",
    "            }\n",
    "            restaurants.append(restaurant)\n",
    "    return restaurants\n",
    "\n",
    "\n",
    "parsed_data = []\n",
    "with open(DATABASE_FILE, 'r') as file:\n",
    "    for line in file:\n",
    "        json_data = json.loads(line)\n",
    "        parsed_data.extend(parse_yelp_data(json_data))\n",
    "\n",
    "restaurants_df = pd.DataFrame(parsed_data)\n",
    "\n",
    "print(restaurants_df.shape)"
   ]
  },
  {
   "cell_type": "code",
   "execution_count": null,
   "metadata": {},
   "outputs": [],
   "source": []
  }
 ],
 "metadata": {
  "kernelspec": {
   "display_name": "food_recommendation",
   "language": "python",
   "name": "python3"
  },
  "language_info": {
   "codemirror_mode": {
    "name": "ipython",
    "version": 3
   },
   "file_extension": ".py",
   "mimetype": "text/x-python",
   "name": "python",
   "nbconvert_exporter": "python",
   "pygments_lexer": "ipython3",
   "version": "3.12.3"
  }
 },
 "nbformat": 4,
 "nbformat_minor": 2
}
